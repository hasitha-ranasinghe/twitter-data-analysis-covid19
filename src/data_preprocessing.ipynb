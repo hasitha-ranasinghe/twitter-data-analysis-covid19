{
 "cells": [
  {
   "cell_type": "code",
   "execution_count": null,
   "metadata": {},
   "outputs": [],
   "source": [
    "import tweepy           \n",
    "import pandas as pd     \n",
    "import numpy as np  "
   ]
  },
  {
   "cell_type": "code",
   "execution_count": null,
   "metadata": {},
   "outputs": [],
   "source": [
    "import preprocessor as p\n",
    "import re\n",
    "\n",
    "#from preprocessor.api import clean, tokenize, parse"
   ]
  },
  {
   "cell_type": "code",
   "execution_count": 29,
   "metadata": {},
   "outputs": [],
   "source": [
    "raw_data = pd.read_csv('data/raw/extracted_data.csv', nrows=100000)"
   ]
  },
  {
   "cell_type": "code",
   "execution_count": 30,
   "metadata": {},
   "outputs": [
    {
     "data": {
      "text/html": [
       "<div>\n",
       "<style scoped>\n",
       "    .dataframe tbody tr th:only-of-type {\n",
       "        vertical-align: middle;\n",
       "    }\n",
       "\n",
       "    .dataframe tbody tr th {\n",
       "        vertical-align: top;\n",
       "    }\n",
       "\n",
       "    .dataframe thead th {\n",
       "        text-align: right;\n",
       "    }\n",
       "</style>\n",
       "<table border=\"1\" class=\"dataframe\">\n",
       "  <thead>\n",
       "    <tr style=\"text-align: right;\">\n",
       "      <th></th>\n",
       "      <th>user_id</th>\n",
       "      <th>tweet_created_time</th>\n",
       "      <th>tweet_text</th>\n",
       "      <th>tweet_length</th>\n",
       "      <th>user_created_at</th>\n",
       "      <th>user_followers_count</th>\n",
       "      <th>user_friends_count</th>\n",
       "      <th>twitter_source</th>\n",
       "      <th>tweet_likes</th>\n",
       "      <th>tweet_retweets</th>\n",
       "    </tr>\n",
       "  </thead>\n",
       "  <tbody>\n",
       "    <tr>\n",
       "      <th>0</th>\n",
       "      <td>1246172809295880192</td>\n",
       "      <td>2020-04-03 20:28:45</td>\n",
       "      <td>b'Sound advice from Mick Jagger.\\n\\n\"STAY HOME...</td>\n",
       "      <td>131</td>\n",
       "      <td>2014-11-01 09:19:50</td>\n",
       "      <td>20</td>\n",
       "      <td>473</td>\n",
       "      <td>Twitter for Android</td>\n",
       "      <td>0</td>\n",
       "      <td>0</td>\n",
       "    </tr>\n",
       "    <tr>\n",
       "      <th>1</th>\n",
       "      <td>1246172801192488960</td>\n",
       "      <td>2020-04-03 20:28:43</td>\n",
       "      <td>b'This generation of kids will never take for ...</td>\n",
       "      <td>105</td>\n",
       "      <td>2012-10-09 16:20:40</td>\n",
       "      <td>22661</td>\n",
       "      <td>10322</td>\n",
       "      <td>Twitter for iPhone</td>\n",
       "      <td>0</td>\n",
       "      <td>0</td>\n",
       "    </tr>\n",
       "    <tr>\n",
       "      <th>2</th>\n",
       "      <td>1246172791432450048</td>\n",
       "      <td>2020-04-03 20:28:40</td>\n",
       "      <td>b'hey guys there I am again .... but annoyed \\...</td>\n",
       "      <td>137</td>\n",
       "      <td>2014-05-13 16:21:31</td>\n",
       "      <td>1658</td>\n",
       "      <td>9</td>\n",
       "      <td>Instagram</td>\n",
       "      <td>0</td>\n",
       "      <td>0</td>\n",
       "    </tr>\n",
       "    <tr>\n",
       "      <th>3</th>\n",
       "      <td>1246172785715621888</td>\n",
       "      <td>2020-04-03 20:28:39</td>\n",
       "      <td>b'Comes to something when you empty the bins i...</td>\n",
       "      <td>131</td>\n",
       "      <td>2011-10-19 22:19:52</td>\n",
       "      <td>4661</td>\n",
       "      <td>4668</td>\n",
       "      <td>Twitter for Android</td>\n",
       "      <td>0</td>\n",
       "      <td>0</td>\n",
       "    </tr>\n",
       "    <tr>\n",
       "      <th>4</th>\n",
       "      <td>1246172732275847168</td>\n",
       "      <td>2020-04-03 20:28:26</td>\n",
       "      <td>b'Lockdown is not shutdown. We are here to ser...</td>\n",
       "      <td>140</td>\n",
       "      <td>2019-06-02 05:19:30</td>\n",
       "      <td>1</td>\n",
       "      <td>2</td>\n",
       "      <td>Twitter for iPhone</td>\n",
       "      <td>0</td>\n",
       "      <td>0</td>\n",
       "    </tr>\n",
       "  </tbody>\n",
       "</table>\n",
       "</div>"
      ],
      "text/plain": [
       "               user_id   tweet_created_time  \\\n",
       "0  1246172809295880192  2020-04-03 20:28:45   \n",
       "1  1246172801192488960  2020-04-03 20:28:43   \n",
       "2  1246172791432450048  2020-04-03 20:28:40   \n",
       "3  1246172785715621888  2020-04-03 20:28:39   \n",
       "4  1246172732275847168  2020-04-03 20:28:26   \n",
       "\n",
       "                                          tweet_text  tweet_length  \\\n",
       "0  b'Sound advice from Mick Jagger.\\n\\n\"STAY HOME...           131   \n",
       "1  b'This generation of kids will never take for ...           105   \n",
       "2  b'hey guys there I am again .... but annoyed \\...           137   \n",
       "3  b'Comes to something when you empty the bins i...           131   \n",
       "4  b'Lockdown is not shutdown. We are here to ser...           140   \n",
       "\n",
       "       user_created_at  user_followers_count  user_friends_count  \\\n",
       "0  2014-11-01 09:19:50                    20                 473   \n",
       "1  2012-10-09 16:20:40                 22661               10322   \n",
       "2  2014-05-13 16:21:31                  1658                   9   \n",
       "3  2011-10-19 22:19:52                  4661                4668   \n",
       "4  2019-06-02 05:19:30                     1                   2   \n",
       "\n",
       "        twitter_source  tweet_likes  tweet_retweets  \n",
       "0  Twitter for Android            0               0  \n",
       "1   Twitter for iPhone            0               0  \n",
       "2            Instagram            0               0  \n",
       "3  Twitter for Android            0               0  \n",
       "4   Twitter for iPhone            0               0  "
      ]
     },
     "execution_count": 30,
     "metadata": {},
     "output_type": "execute_result"
    }
   ],
   "source": [
    "raw_data.head()"
   ]
  },
  {
   "cell_type": "code",
   "execution_count": 31,
   "metadata": {},
   "outputs": [
    {
     "name": "stdout",
     "output_type": "stream",
     "text": [
      "<class 'pandas.core.frame.DataFrame'>\n",
      "RangeIndex: 100000 entries, 0 to 99999\n",
      "Data columns (total 10 columns):\n",
      "user_id                 100000 non-null int64\n",
      "tweet_created_time      100000 non-null object\n",
      "tweet_text              100000 non-null object\n",
      "tweet_length            100000 non-null int64\n",
      "user_created_at         100000 non-null object\n",
      "user_followers_count    100000 non-null int64\n",
      "user_friends_count      100000 non-null int64\n",
      "twitter_source          100000 non-null object\n",
      "tweet_likes             100000 non-null int64\n",
      "tweet_retweets          100000 non-null int64\n",
      "dtypes: int64(6), object(4)\n",
      "memory usage: 7.6+ MB\n"
     ]
    }
   ],
   "source": [
    "raw_data.info()"
   ]
  },
  {
   "cell_type": "code",
   "execution_count": null,
   "metadata": {},
   "outputs": [],
   "source": []
  },
  {
   "cell_type": "markdown",
   "metadata": {},
   "source": [
    "Utility function to clean the text in a tweet by removing links and special characters using regex."
   ]
  },
  {
   "cell_type": "markdown",
   "metadata": {},
   "source": [
    "def clean_tweet(tweet):\n",
    "    \n",
    "    return ' '.join(re.sub(\"(@[A-Za-z0-9]+)|([^0-9A-Za-z \\t])|(\\w+:\\/\\/\\S+)\", \" \", p.clean(tweet)).split())"
   ]
  },
  {
   "cell_type": "code",
   "execution_count": 32,
   "metadata": {},
   "outputs": [],
   "source": [
    "raw_data['clean_text'] = np.array([ p.clean(tweet) for tweet in raw_data['tweet_text'] ])"
   ]
  },
  {
   "cell_type": "code",
   "execution_count": 33,
   "metadata": {},
   "outputs": [],
   "source": [
    "raw_data['clean_text'] = np.array([ re.sub(r'(@[A-Za-z0-9]+)|([^0)-9A-Za-z \\t])|(\\w+:\\/\\/\\S+)', \"\", tweet) for tweet in raw_data['clean_text'] ])"
   ]
  },
  {
   "cell_type": "code",
   "execution_count": 34,
   "metadata": {},
   "outputs": [],
   "source": [
    "raw_data['clean_text'] = np.array([ tweet[1:] for tweet in raw_data['clean_text'] ])"
   ]
  },
  {
   "cell_type": "code",
   "execution_count": 35,
   "metadata": {},
   "outputs": [
    {
     "data": {
      "text/plain": [
       "0    Sound advice from Mick Jagger.nnSTAY HOME, PAR...\n",
       "1    This generation of kids will never take for gr...\n",
       "2    hey guys there I am again .... but annoyed xf0...\n",
       "3    Comes to something when you empty the bins in ...\n",
       "4    Lockdown is not shutdown. We are here to serve...\n",
       "Name: clean_text, dtype: object"
      ]
     },
     "execution_count": 35,
     "metadata": {},
     "output_type": "execute_result"
    }
   ],
   "source": [
    "raw_data['clean_text'].head()"
   ]
  },
  {
   "cell_type": "code",
   "execution_count": null,
   "metadata": {},
   "outputs": [],
   "source": []
  },
  {
   "cell_type": "code",
   "execution_count": null,
   "metadata": {},
   "outputs": [],
   "source": [
    "for tweet in raw_data['clean_text']:\n",
    "    print(tweet[0])\n"
   ]
  },
  {
   "cell_type": "code",
   "execution_count": 36,
   "metadata": {},
   "outputs": [
    {
     "data": {
      "text/plain": [
       "0    Sound advice from Mick Jagger.nnSTAY HOME, PAR...\n",
       "1    This generation of kids will never take for gr...\n",
       "2    hey guys there I am again .... but annoyed xf0...\n",
       "3    Comes to something when you empty the bins in ...\n",
       "4    Lockdown is not shutdown. We are here to serve...\n",
       "Name: clean_text, dtype: object"
      ]
     },
     "execution_count": 36,
     "metadata": {},
     "output_type": "execute_result"
    }
   ],
   "source": [
    "raw_data['clean_text'].head()"
   ]
  },
  {
   "cell_type": "code",
   "execution_count": 37,
   "metadata": {},
   "outputs": [
    {
     "data": {
      "text/plain": [
       "0    b'Sound advice from Mick Jagger.\\n\\n\"STAY HOME...\n",
       "1    b'This generation of kids will never take for ...\n",
       "2    b'hey guys there I am again .... but annoyed \\...\n",
       "3    b'Comes to something when you empty the bins i...\n",
       "4    b'Lockdown is not shutdown. We are here to ser...\n",
       "Name: tweet_text, dtype: object"
      ]
     },
     "execution_count": 37,
     "metadata": {},
     "output_type": "execute_result"
    }
   ],
   "source": [
    "raw_data['tweet_text'].head()"
   ]
  },
  {
   "cell_type": "code",
   "execution_count": null,
   "metadata": {},
   "outputs": [],
   "source": []
  },
  {
   "cell_type": "code",
   "execution_count": 38,
   "metadata": {},
   "outputs": [],
   "source": [
    "raw_data['tweet_text'] = raw_data['clean_text']"
   ]
  },
  {
   "cell_type": "code",
   "execution_count": 40,
   "metadata": {},
   "outputs": [
    {
     "data": {
      "text/plain": [
       "0    Sound advice from Mick Jagger.nnSTAY HOME, PAR...\n",
       "1    This generation of kids will never take for gr...\n",
       "2    hey guys there I am again .... but annoyed xf0...\n",
       "3    Comes to something when you empty the bins in ...\n",
       "4    Lockdown is not shutdown. We are here to serve...\n",
       "Name: tweet_text, dtype: object"
      ]
     },
     "execution_count": 40,
     "metadata": {},
     "output_type": "execute_result"
    }
   ],
   "source": [
    "raw_data['tweet_text'].head()"
   ]
  },
  {
   "cell_type": "code",
   "execution_count": 51,
   "metadata": {},
   "outputs": [],
   "source": [
    "raw_data = raw_data.drop(['clean_text'], axis=1)"
   ]
  },
  {
   "cell_type": "code",
   "execution_count": 52,
   "metadata": {},
   "outputs": [
    {
     "data": {
      "text/html": [
       "<div>\n",
       "<style scoped>\n",
       "    .dataframe tbody tr th:only-of-type {\n",
       "        vertical-align: middle;\n",
       "    }\n",
       "\n",
       "    .dataframe tbody tr th {\n",
       "        vertical-align: top;\n",
       "    }\n",
       "\n",
       "    .dataframe thead th {\n",
       "        text-align: right;\n",
       "    }\n",
       "</style>\n",
       "<table border=\"1\" class=\"dataframe\">\n",
       "  <thead>\n",
       "    <tr style=\"text-align: right;\">\n",
       "      <th></th>\n",
       "      <th>user_id</th>\n",
       "      <th>tweet_created_time</th>\n",
       "      <th>tweet_text</th>\n",
       "      <th>tweet_length</th>\n",
       "      <th>user_created_at</th>\n",
       "      <th>user_followers_count</th>\n",
       "      <th>user_friends_count</th>\n",
       "      <th>twitter_source</th>\n",
       "      <th>tweet_likes</th>\n",
       "      <th>tweet_retweets</th>\n",
       "    </tr>\n",
       "  </thead>\n",
       "  <tbody>\n",
       "    <tr>\n",
       "      <th>0</th>\n",
       "      <td>1246172809295880192</td>\n",
       "      <td>2020-04-03 20:28:45</td>\n",
       "      <td>Sound advice from Mick Jagger.nnSTAY HOME, PAR...</td>\n",
       "      <td>131</td>\n",
       "      <td>2014-11-01 09:19:50</td>\n",
       "      <td>20</td>\n",
       "      <td>473</td>\n",
       "      <td>Twitter for Android</td>\n",
       "      <td>0</td>\n",
       "      <td>0</td>\n",
       "    </tr>\n",
       "    <tr>\n",
       "      <th>1</th>\n",
       "      <td>1246172801192488960</td>\n",
       "      <td>2020-04-03 20:28:43</td>\n",
       "      <td>This generation of kids will never take for gr...</td>\n",
       "      <td>105</td>\n",
       "      <td>2012-10-09 16:20:40</td>\n",
       "      <td>22661</td>\n",
       "      <td>10322</td>\n",
       "      <td>Twitter for iPhone</td>\n",
       "      <td>0</td>\n",
       "      <td>0</td>\n",
       "    </tr>\n",
       "    <tr>\n",
       "      <th>2</th>\n",
       "      <td>1246172791432450048</td>\n",
       "      <td>2020-04-03 20:28:40</td>\n",
       "      <td>hey guys there I am again .... but annoyed xf0...</td>\n",
       "      <td>137</td>\n",
       "      <td>2014-05-13 16:21:31</td>\n",
       "      <td>1658</td>\n",
       "      <td>9</td>\n",
       "      <td>Instagram</td>\n",
       "      <td>0</td>\n",
       "      <td>0</td>\n",
       "    </tr>\n",
       "    <tr>\n",
       "      <th>3</th>\n",
       "      <td>1246172785715621888</td>\n",
       "      <td>2020-04-03 20:28:39</td>\n",
       "      <td>Comes to something when you empty the bins in ...</td>\n",
       "      <td>131</td>\n",
       "      <td>2011-10-19 22:19:52</td>\n",
       "      <td>4661</td>\n",
       "      <td>4668</td>\n",
       "      <td>Twitter for Android</td>\n",
       "      <td>0</td>\n",
       "      <td>0</td>\n",
       "    </tr>\n",
       "    <tr>\n",
       "      <th>4</th>\n",
       "      <td>1246172732275847168</td>\n",
       "      <td>2020-04-03 20:28:26</td>\n",
       "      <td>Lockdown is not shutdown. We are here to serve...</td>\n",
       "      <td>140</td>\n",
       "      <td>2019-06-02 05:19:30</td>\n",
       "      <td>1</td>\n",
       "      <td>2</td>\n",
       "      <td>Twitter for iPhone</td>\n",
       "      <td>0</td>\n",
       "      <td>0</td>\n",
       "    </tr>\n",
       "  </tbody>\n",
       "</table>\n",
       "</div>"
      ],
      "text/plain": [
       "               user_id   tweet_created_time  \\\n",
       "0  1246172809295880192  2020-04-03 20:28:45   \n",
       "1  1246172801192488960  2020-04-03 20:28:43   \n",
       "2  1246172791432450048  2020-04-03 20:28:40   \n",
       "3  1246172785715621888  2020-04-03 20:28:39   \n",
       "4  1246172732275847168  2020-04-03 20:28:26   \n",
       "\n",
       "                                          tweet_text  tweet_length  \\\n",
       "0  Sound advice from Mick Jagger.nnSTAY HOME, PAR...           131   \n",
       "1  This generation of kids will never take for gr...           105   \n",
       "2  hey guys there I am again .... but annoyed xf0...           137   \n",
       "3  Comes to something when you empty the bins in ...           131   \n",
       "4  Lockdown is not shutdown. We are here to serve...           140   \n",
       "\n",
       "       user_created_at  user_followers_count  user_friends_count  \\\n",
       "0  2014-11-01 09:19:50                    20                 473   \n",
       "1  2012-10-09 16:20:40                 22661               10322   \n",
       "2  2014-05-13 16:21:31                  1658                   9   \n",
       "3  2011-10-19 22:19:52                  4661                4668   \n",
       "4  2019-06-02 05:19:30                     1                   2   \n",
       "\n",
       "        twitter_source  tweet_likes  tweet_retweets  \n",
       "0  Twitter for Android            0               0  \n",
       "1   Twitter for iPhone            0               0  \n",
       "2            Instagram            0               0  \n",
       "3  Twitter for Android            0               0  \n",
       "4   Twitter for iPhone            0               0  "
      ]
     },
     "execution_count": 52,
     "metadata": {},
     "output_type": "execute_result"
    }
   ],
   "source": [
    "raw_data.head()"
   ]
  },
  {
   "cell_type": "markdown",
   "metadata": {},
   "source": [
    "# Write to csv"
   ]
  },
  {
   "cell_type": "code",
   "execution_count": 54,
   "metadata": {},
   "outputs": [],
   "source": [
    "raw_data.to_csv('data/processed/processed_data.csv',index=False)"
   ]
  },
  {
   "cell_type": "code",
   "execution_count": null,
   "metadata": {},
   "outputs": [],
   "source": []
  },
  {
   "cell_type": "code",
   "execution_count": null,
   "metadata": {},
   "outputs": [],
   "source": []
  },
  {
   "cell_type": "markdown",
   "metadata": {},
   "source": [
    "# Lower case"
   ]
  },
  {
   "cell_type": "code",
   "execution_count": null,
   "metadata": {},
   "outputs": [],
   "source": [
    "raw_data['tweet_text'] = raw_data['tweet_text'].apply(lambda x: \" \".join(x.lower() for x in x.split()))\n",
    "raw_data['tweet_text'].head()"
   ]
  },
  {
   "cell_type": "markdown",
   "metadata": {},
   "source": [
    "# Removing Punctuation"
   ]
  },
  {
   "cell_type": "code",
   "execution_count": null,
   "metadata": {},
   "outputs": [],
   "source": [
    "raw_data['tweet_text'] = raw_data['tweet_text'].str.replace('[^\\w\\s]','')\n",
    "raw_data['tweet_text'].head()"
   ]
  },
  {
   "cell_type": "markdown",
   "metadata": {},
   "source": [
    "# Rare words removal"
   ]
  },
  {
   "cell_type": "code",
   "execution_count": null,
   "metadata": {},
   "outputs": [],
   "source": [
    "freq = pd.Series(' '.join(raw_data['tweet_text']).split()).value_counts()[-10:]\n",
    "freq = list(freq.index)\n",
    "raw_data['tweet_text'] = raw_data['tweet_text'].apply(lambda x: \" \".join(x for x in x.split() if x not in freq))\n",
    "raw_data['tweet_text'].head()"
   ]
  },
  {
   "cell_type": "markdown",
   "metadata": {},
   "source": [
    "# Spelling correction"
   ]
  },
  {
   "cell_type": "code",
   "execution_count": null,
   "metadata": {},
   "outputs": [],
   "source": [
    "from textblob import TextBlob\n",
    "raw_data['tweet_text'][:5].apply(lambda x: str(TextBlob(x).correct()))"
   ]
  },
  {
   "cell_type": "markdown",
   "metadata": {},
   "source": [
    "# Lemmatization\n",
    "we usually prefer using lemmatization over stemming"
   ]
  },
  {
   "cell_type": "code",
   "execution_count": null,
   "metadata": {},
   "outputs": [],
   "source": [
    "from textblob import Word\n",
    "raw_data['tweet_text'] = raw_data['tweet_text'].apply(lambda x: \" \".join([Word(word).lemmatize() for word in x.split()]))\n",
    "raw_data['tweet_text'].head()"
   ]
  },
  {
   "cell_type": "code",
   "execution_count": null,
   "metadata": {},
   "outputs": [],
   "source": []
  },
  {
   "cell_type": "code",
   "execution_count": null,
   "metadata": {},
   "outputs": [],
   "source": []
  },
  {
   "cell_type": "code",
   "execution_count": null,
   "metadata": {},
   "outputs": [],
   "source": [
    "blob = TextBlob(\"Analytics Vidhya is a great platform to learn data science.\")\n",
    "for np in blob.noun_phrases:\n",
    " print (np)"
   ]
  },
  {
   "cell_type": "code",
   "execution_count": null,
   "metadata": {},
   "outputs": [],
   "source": []
  },
  {
   "cell_type": "code",
   "execution_count": null,
   "metadata": {},
   "outputs": [],
   "source": []
  },
  {
   "cell_type": "code",
   "execution_count": null,
   "metadata": {},
   "outputs": [],
   "source": []
  },
  {
   "cell_type": "code",
   "execution_count": null,
   "metadata": {},
   "outputs": [],
   "source": []
  }
 ],
 "metadata": {
  "kernelspec": {
   "display_name": "Python 3",
   "language": "python",
   "name": "python3"
  },
  "language_info": {
   "codemirror_mode": {
    "name": "ipython",
    "version": 3
   },
   "file_extension": ".py",
   "mimetype": "text/x-python",
   "name": "python",
   "nbconvert_exporter": "python",
   "pygments_lexer": "ipython3",
   "version": "3.6.5"
  }
 },
 "nbformat": 4,
 "nbformat_minor": 2
}

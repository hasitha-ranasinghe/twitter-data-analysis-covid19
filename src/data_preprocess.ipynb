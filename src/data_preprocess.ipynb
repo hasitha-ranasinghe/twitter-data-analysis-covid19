{
 "cells": [
  {
   "cell_type": "code",
   "execution_count": 106,
   "metadata": {},
   "outputs": [],
   "source": [
    "import pandas as pd     \n",
    "import numpy as np  "
   ]
  },
  {
   "cell_type": "code",
   "execution_count": 107,
   "metadata": {},
   "outputs": [],
   "source": [
    "import preprocessor as p\n",
    "import re\n",
    "\n",
    "#from preprocessor.api import clean, tokenize, parse"
   ]
  },
  {
   "cell_type": "code",
   "execution_count": 108,
   "metadata": {},
   "outputs": [],
   "source": [
    "raw_data = pd.read_csv('data/raw/scomo.csv')"
   ]
  },
  {
   "cell_type": "code",
   "execution_count": 109,
   "metadata": {},
   "outputs": [
    {
     "data": {
      "text/html": [
       "<div>\n",
       "<style scoped>\n",
       "    .dataframe tbody tr th:only-of-type {\n",
       "        vertical-align: middle;\n",
       "    }\n",
       "\n",
       "    .dataframe tbody tr th {\n",
       "        vertical-align: top;\n",
       "    }\n",
       "\n",
       "    .dataframe thead th {\n",
       "        text-align: right;\n",
       "    }\n",
       "</style>\n",
       "<table border=\"1\" class=\"dataframe\">\n",
       "  <thead>\n",
       "    <tr style=\"text-align: right;\">\n",
       "      <th></th>\n",
       "      <th>user_id</th>\n",
       "      <th>tweet_created_time</th>\n",
       "      <th>tweet_text</th>\n",
       "      <th>tweet_length</th>\n",
       "      <th>user_created_at</th>\n",
       "      <th>user_followers_count</th>\n",
       "      <th>user_friends_count</th>\n",
       "      <th>twitter_source</th>\n",
       "      <th>tweet_likes</th>\n",
       "      <th>tweet_retweets</th>\n",
       "    </tr>\n",
       "  </thead>\n",
       "  <tbody>\n",
       "    <tr>\n",
       "      <th>0</th>\n",
       "      <td>1248114682293940224</td>\n",
       "      <td>2020-04-09 05:05:03</td>\n",
       "      <td>b'@BelindaJones68 @Hillsong @ScottMorrisonMP @...</td>\n",
       "      <td>128</td>\n",
       "      <td>2009-03-23 01:50:11</td>\n",
       "      <td>1384</td>\n",
       "      <td>1300</td>\n",
       "      <td>Twitter Web App</td>\n",
       "      <td>0</td>\n",
       "      <td>0</td>\n",
       "    </tr>\n",
       "    <tr>\n",
       "      <th>1</th>\n",
       "      <td>1248114657107120128</td>\n",
       "      <td>2020-04-09 05:04:57</td>\n",
       "      <td>b'@Ctl_Alt_Del @cscviews @ScottMorrisonMP Chin...</td>\n",
       "      <td>99</td>\n",
       "      <td>2011-12-27 14:33:19</td>\n",
       "      <td>221</td>\n",
       "      <td>209</td>\n",
       "      <td>Twitter for iPhone</td>\n",
       "      <td>0</td>\n",
       "      <td>0</td>\n",
       "    </tr>\n",
       "    <tr>\n",
       "      <th>2</th>\n",
       "      <td>1248114627562487809</td>\n",
       "      <td>2020-04-09 05:04:50</td>\n",
       "      <td>b'@Ctl_Alt_Del @ScottMorrisonMP Wants to keep ...</td>\n",
       "      <td>103</td>\n",
       "      <td>2015-01-18 11:21:26</td>\n",
       "      <td>1296</td>\n",
       "      <td>1921</td>\n",
       "      <td>Twitter for Android</td>\n",
       "      <td>0</td>\n",
       "      <td>0</td>\n",
       "    </tr>\n",
       "    <tr>\n",
       "      <th>3</th>\n",
       "      <td>1248114604963590144</td>\n",
       "      <td>2020-04-09 05:04:45</td>\n",
       "      <td>b'@FBIAgentsAssoc @FBIWFO @ScottMorrisonMP(Pt1...</td>\n",
       "      <td>126</td>\n",
       "      <td>2020-02-07 21:56:08</td>\n",
       "      <td>5</td>\n",
       "      <td>27</td>\n",
       "      <td>Twitter for Android</td>\n",
       "      <td>0</td>\n",
       "      <td>0</td>\n",
       "    </tr>\n",
       "    <tr>\n",
       "      <th>4</th>\n",
       "      <td>1248114586466676737</td>\n",
       "      <td>2020-04-09 05:04:40</td>\n",
       "      <td>b'@BelindaJones68 @ScottMorrisonMP @BrianCHous...</td>\n",
       "      <td>102</td>\n",
       "      <td>2011-02-25 02:45:04</td>\n",
       "      <td>1856</td>\n",
       "      <td>1293</td>\n",
       "      <td>Twitter for Android</td>\n",
       "      <td>0</td>\n",
       "      <td>0</td>\n",
       "    </tr>\n",
       "  </tbody>\n",
       "</table>\n",
       "</div>"
      ],
      "text/plain": [
       "               user_id   tweet_created_time  \\\n",
       "0  1248114682293940224  2020-04-09 05:05:03   \n",
       "1  1248114657107120128  2020-04-09 05:04:57   \n",
       "2  1248114627562487809  2020-04-09 05:04:50   \n",
       "3  1248114604963590144  2020-04-09 05:04:45   \n",
       "4  1248114586466676737  2020-04-09 05:04:40   \n",
       "\n",
       "                                          tweet_text  tweet_length  \\\n",
       "0  b'@BelindaJones68 @Hillsong @ScottMorrisonMP @...           128   \n",
       "1  b'@Ctl_Alt_Del @cscviews @ScottMorrisonMP Chin...            99   \n",
       "2  b'@Ctl_Alt_Del @ScottMorrisonMP Wants to keep ...           103   \n",
       "3  b'@FBIAgentsAssoc @FBIWFO @ScottMorrisonMP(Pt1...           126   \n",
       "4  b'@BelindaJones68 @ScottMorrisonMP @BrianCHous...           102   \n",
       "\n",
       "       user_created_at  user_followers_count  user_friends_count  \\\n",
       "0  2009-03-23 01:50:11                  1384                1300   \n",
       "1  2011-12-27 14:33:19                   221                 209   \n",
       "2  2015-01-18 11:21:26                  1296                1921   \n",
       "3  2020-02-07 21:56:08                     5                  27   \n",
       "4  2011-02-25 02:45:04                  1856                1293   \n",
       "\n",
       "        twitter_source  tweet_likes  tweet_retweets  \n",
       "0      Twitter Web App            0               0  \n",
       "1   Twitter for iPhone            0               0  \n",
       "2  Twitter for Android            0               0  \n",
       "3  Twitter for Android            0               0  \n",
       "4  Twitter for Android            0               0  "
      ]
     },
     "execution_count": 109,
     "metadata": {},
     "output_type": "execute_result"
    }
   ],
   "source": [
    "raw_data.head()"
   ]
  },
  {
   "cell_type": "code",
   "execution_count": 110,
   "metadata": {},
   "outputs": [
    {
     "name": "stdout",
     "output_type": "stream",
     "text": [
      "<class 'pandas.core.frame.DataFrame'>\n",
      "RangeIndex: 43553 entries, 0 to 43552\n",
      "Data columns (total 10 columns):\n",
      "user_id                 43553 non-null int64\n",
      "tweet_created_time      43553 non-null object\n",
      "tweet_text              43553 non-null object\n",
      "tweet_length            43553 non-null int64\n",
      "user_created_at         43553 non-null object\n",
      "user_followers_count    43553 non-null int64\n",
      "user_friends_count      43553 non-null int64\n",
      "twitter_source          43553 non-null object\n",
      "tweet_likes             43553 non-null int64\n",
      "tweet_retweets          43553 non-null int64\n",
      "dtypes: int64(6), object(4)\n",
      "memory usage: 3.3+ MB\n"
     ]
    }
   ],
   "source": [
    "raw_data.info()"
   ]
  },
  {
   "cell_type": "code",
   "execution_count": null,
   "metadata": {},
   "outputs": [],
   "source": []
  },
  {
   "cell_type": "code",
   "execution_count": 99,
   "metadata": {},
   "outputs": [],
   "source": [
    "raw_data['clean_text'] = np.array([ p.clean(tweet) for tweet in raw_data['tweet_text'] ])"
   ]
  },
  {
   "cell_type": "code",
   "execution_count": 100,
   "metadata": {},
   "outputs": [],
   "source": [
    "raw_data['clean_text'] = np.array([ re.sub(r'(@[A-Za-z0-9]+)|([^0)-9A-Za-z \\t])|(\\w+:\\/\\/\\S+)', \"\", tweet) for tweet in raw_data['clean_text'] ])"
   ]
  },
  {
   "cell_type": "code",
   "execution_count": 101,
   "metadata": {},
   "outputs": [],
   "source": [
    "raw_data['clean_text'] = np.array([ tweet[1:] for tweet in raw_data['clean_text'] ])"
   ]
  },
  {
   "cell_type": "code",
   "execution_count": 104,
   "metadata": {},
   "outputs": [
    {
     "data": {
      "text/plain": [
       "0    b'My new work pants #lockdownaustralia \\xf0\\x9...\n",
       "1    b'Oh man, we miss being in our offices in Nort...\n",
       "2    b'Spent time planting my veggie garden and dug...\n",
       "3    b'Stay home and stay safe everyone. #StayHomeA...\n",
       "4    b\"Think about it. What's 2 weeks in complete l...\n",
       "Name: tweet_text, dtype: object"
      ]
     },
     "execution_count": 104,
     "metadata": {},
     "output_type": "execute_result"
    }
   ],
   "source": [
    "raw_data['tweet_text'].head()"
   ]
  },
  {
   "cell_type": "code",
   "execution_count": 105,
   "metadata": {},
   "outputs": [
    {
     "data": {
      "text/plain": [
       "0                      My new work pants xf0x9fx98x82 \n",
       "1    Oh man, we miss being in our offices in Northb...\n",
       "2    Spent time planting my veggie garden and dug u...\n",
       "3                   Stay home and stay safe everyone. \n",
       "4    Think about it. Whats weeks in complete lockdo...\n",
       "Name: clean_text, dtype: object"
      ]
     },
     "execution_count": 105,
     "metadata": {},
     "output_type": "execute_result"
    }
   ],
   "source": [
    "raw_data['clean_text'].head()"
   ]
  },
  {
   "cell_type": "code",
   "execution_count": null,
   "metadata": {},
   "outputs": [],
   "source": []
  },
  {
   "cell_type": "code",
   "execution_count": 88,
   "metadata": {},
   "outputs": [],
   "source": [
    "raw_data['tweet_text'] = raw_data['clean_text']"
   ]
  },
  {
   "cell_type": "code",
   "execution_count": 89,
   "metadata": {},
   "outputs": [
    {
     "data": {
      "text/plain": [
       "0                      My new work pants xf0x9fx98x82 \n",
       "1    Oh man, we miss being in our offices in Northb...\n",
       "2    Spent time planting my veggie garden and dug u...\n",
       "3                   Stay home and stay safe everyone. \n",
       "4    Think about it. Whats weeks in complete lockdo...\n",
       "Name: tweet_text, dtype: object"
      ]
     },
     "execution_count": 89,
     "metadata": {},
     "output_type": "execute_result"
    }
   ],
   "source": [
    "raw_data['tweet_text'].head()"
   ]
  },
  {
   "cell_type": "code",
   "execution_count": 90,
   "metadata": {},
   "outputs": [],
   "source": [
    "raw_data = raw_data.drop(['clean_text'], axis=1)"
   ]
  },
  {
   "cell_type": "code",
   "execution_count": 91,
   "metadata": {},
   "outputs": [
    {
     "data": {
      "text/html": [
       "<div>\n",
       "<style scoped>\n",
       "    .dataframe tbody tr th:only-of-type {\n",
       "        vertical-align: middle;\n",
       "    }\n",
       "\n",
       "    .dataframe tbody tr th {\n",
       "        vertical-align: top;\n",
       "    }\n",
       "\n",
       "    .dataframe thead th {\n",
       "        text-align: right;\n",
       "    }\n",
       "</style>\n",
       "<table border=\"1\" class=\"dataframe\">\n",
       "  <thead>\n",
       "    <tr style=\"text-align: right;\">\n",
       "      <th></th>\n",
       "      <th>user_id</th>\n",
       "      <th>tweet_created_time</th>\n",
       "      <th>tweet_text</th>\n",
       "      <th>tweet_length</th>\n",
       "      <th>user_created_at</th>\n",
       "      <th>user_followers_count</th>\n",
       "      <th>user_friends_count</th>\n",
       "      <th>twitter_source</th>\n",
       "      <th>tweet_likes</th>\n",
       "      <th>tweet_retweets</th>\n",
       "    </tr>\n",
       "  </thead>\n",
       "  <tbody>\n",
       "    <tr>\n",
       "      <th>0</th>\n",
       "      <td>1246775237133230089</td>\n",
       "      <td>2020-04-05 12:22:35</td>\n",
       "      <td>My new work pants xf0x9fx98x82</td>\n",
       "      <td>62</td>\n",
       "      <td>2019-04-06 10:15:46</td>\n",
       "      <td>349</td>\n",
       "      <td>650</td>\n",
       "      <td>Twitter for iPhone</td>\n",
       "      <td>4</td>\n",
       "      <td>0</td>\n",
       "    </tr>\n",
       "    <tr>\n",
       "      <th>1</th>\n",
       "      <td>1246773530680754179</td>\n",
       "      <td>2020-04-05 12:15:48</td>\n",
       "      <td>Oh man, we miss being in our offices in Northb...</td>\n",
       "      <td>133</td>\n",
       "      <td>2012-10-11 03:32:19</td>\n",
       "      <td>921</td>\n",
       "      <td>249</td>\n",
       "      <td>Twitter for iPhone</td>\n",
       "      <td>0</td>\n",
       "      <td>0</td>\n",
       "    </tr>\n",
       "    <tr>\n",
       "      <th>2</th>\n",
       "      <td>1246773513177849856</td>\n",
       "      <td>2020-04-05 12:15:44</td>\n",
       "      <td>Spent time planting my veggie garden and dug u...</td>\n",
       "      <td>138</td>\n",
       "      <td>2015-07-10 01:23:49</td>\n",
       "      <td>482</td>\n",
       "      <td>559</td>\n",
       "      <td>Twitter for iPhone</td>\n",
       "      <td>0</td>\n",
       "      <td>0</td>\n",
       "    </tr>\n",
       "    <tr>\n",
       "      <th>3</th>\n",
       "      <td>1246770742785478656</td>\n",
       "      <td>2020-04-05 12:04:43</td>\n",
       "      <td>Stay home and stay safe everyone.</td>\n",
       "      <td>134</td>\n",
       "      <td>2011-04-02 07:02:15</td>\n",
       "      <td>300</td>\n",
       "      <td>727</td>\n",
       "      <td>Twitter for Android</td>\n",
       "      <td>0</td>\n",
       "      <td>0</td>\n",
       "    </tr>\n",
       "    <tr>\n",
       "      <th>4</th>\n",
       "      <td>1246770139061575680</td>\n",
       "      <td>2020-04-05 12:02:19</td>\n",
       "      <td>Think about it. Whats weeks in complete lockdo...</td>\n",
       "      <td>90</td>\n",
       "      <td>2019-06-13 00:18:44</td>\n",
       "      <td>1</td>\n",
       "      <td>31</td>\n",
       "      <td>Twitter for Android</td>\n",
       "      <td>0</td>\n",
       "      <td>0</td>\n",
       "    </tr>\n",
       "  </tbody>\n",
       "</table>\n",
       "</div>"
      ],
      "text/plain": [
       "               user_id   tweet_created_time  \\\n",
       "0  1246775237133230089  2020-04-05 12:22:35   \n",
       "1  1246773530680754179  2020-04-05 12:15:48   \n",
       "2  1246773513177849856  2020-04-05 12:15:44   \n",
       "3  1246770742785478656  2020-04-05 12:04:43   \n",
       "4  1246770139061575680  2020-04-05 12:02:19   \n",
       "\n",
       "                                          tweet_text  tweet_length  \\\n",
       "0                    My new work pants xf0x9fx98x82             62   \n",
       "1  Oh man, we miss being in our offices in Northb...           133   \n",
       "2  Spent time planting my veggie garden and dug u...           138   \n",
       "3                 Stay home and stay safe everyone.            134   \n",
       "4  Think about it. Whats weeks in complete lockdo...            90   \n",
       "\n",
       "       user_created_at  user_followers_count  user_friends_count  \\\n",
       "0  2019-04-06 10:15:46                   349                 650   \n",
       "1  2012-10-11 03:32:19                   921                 249   \n",
       "2  2015-07-10 01:23:49                   482                 559   \n",
       "3  2011-04-02 07:02:15                   300                 727   \n",
       "4  2019-06-13 00:18:44                     1                  31   \n",
       "\n",
       "        twitter_source  tweet_likes  tweet_retweets  \n",
       "0   Twitter for iPhone            4               0  \n",
       "1   Twitter for iPhone            0               0  \n",
       "2   Twitter for iPhone            0               0  \n",
       "3  Twitter for Android            0               0  \n",
       "4  Twitter for Android            0               0  "
      ]
     },
     "execution_count": 91,
     "metadata": {},
     "output_type": "execute_result"
    }
   ],
   "source": [
    "raw_data.head()"
   ]
  },
  {
   "cell_type": "markdown",
   "metadata": {},
   "source": [
    "# Write to csv"
   ]
  },
  {
   "cell_type": "code",
   "execution_count": 92,
   "metadata": {},
   "outputs": [],
   "source": [
    "raw_data.to_csv('data/processed/processed_data.csv',index=False)"
   ]
  },
  {
   "cell_type": "code",
   "execution_count": null,
   "metadata": {},
   "outputs": [],
   "source": []
  },
  {
   "cell_type": "code",
   "execution_count": null,
   "metadata": {},
   "outputs": [],
   "source": []
  },
  {
   "cell_type": "markdown",
   "metadata": {},
   "source": [
    "# Lower case"
   ]
  },
  {
   "cell_type": "code",
   "execution_count": 111,
   "metadata": {},
   "outputs": [
    {
     "data": {
      "text/plain": [
       "0    b'@belindajones68 @hillsong @scottmorrisonmp @...\n",
       "1    b'@ctl_alt_del @cscviews @scottmorrisonmp chin...\n",
       "2    b'@ctl_alt_del @scottmorrisonmp wants to keep ...\n",
       "3    b'@fbiagentsassoc @fbiwfo @scottmorrisonmp(pt1...\n",
       "4    b'@belindajones68 @scottmorrisonmp @brianchous...\n",
       "Name: tweet_text, dtype: object"
      ]
     },
     "execution_count": 111,
     "metadata": {},
     "output_type": "execute_result"
    }
   ],
   "source": [
    "raw_data['tweet_text'] = raw_data['tweet_text'].apply(lambda x: \" \".join(x.lower() for x in x.split()))\n",
    "raw_data['tweet_text'].head()"
   ]
  },
  {
   "cell_type": "markdown",
   "metadata": {},
   "source": [
    "# Removing Punctuation"
   ]
  },
  {
   "cell_type": "code",
   "execution_count": 112,
   "metadata": {},
   "outputs": [
    {
     "data": {
      "text/plain": [
       "0    bbelindajones68 hillsong scottmorrisonmp nswpo...\n",
       "1    bctl_alt_del cscviews scottmorrisonmp china do...\n",
       "2    bctl_alt_del scottmorrisonmp wants to keep up ...\n",
       "3    bfbiagentsassoc fbiwfo scottmorrisonmppt10citi...\n",
       "4    bbelindajones68 scottmorrisonmp brianchouston ...\n",
       "Name: tweet_text, dtype: object"
      ]
     },
     "execution_count": 112,
     "metadata": {},
     "output_type": "execute_result"
    }
   ],
   "source": [
    "raw_data['tweet_text'] = raw_data['tweet_text'].str.replace('[^\\w\\s]','')\n",
    "raw_data['tweet_text'].head()"
   ]
  },
  {
   "cell_type": "markdown",
   "metadata": {},
   "source": [
    "# Rare words removal"
   ]
  },
  {
   "cell_type": "code",
   "execution_count": 113,
   "metadata": {},
   "outputs": [
    {
     "data": {
      "text/plain": [
       "0    bbelindajones68 hillsong scottmorrisonmp nswpo...\n",
       "1    bctl_alt_del cscviews scottmorrisonmp china do...\n",
       "2    bctl_alt_del scottmorrisonmp wants to keep up ...\n",
       "3    bfbiagentsassoc fbiwfo scottmorrisonmppt10citi...\n",
       "4    bbelindajones68 scottmorrisonmp brianchouston ...\n",
       "Name: tweet_text, dtype: object"
      ]
     },
     "execution_count": 113,
     "metadata": {},
     "output_type": "execute_result"
    }
   ],
   "source": [
    "freq = pd.Series(' '.join(raw_data['tweet_text']).split()).value_counts()[-10:]\n",
    "freq = list(freq.index)\n",
    "raw_data['tweet_text'] = raw_data['tweet_text'].apply(lambda x: \" \".join(x for x in x.split() if x not in freq))\n",
    "raw_data['tweet_text'].head()"
   ]
  },
  {
   "cell_type": "markdown",
   "metadata": {},
   "source": [
    "# Spelling correction"
   ]
  },
  {
   "cell_type": "code",
   "execution_count": 114,
   "metadata": {},
   "outputs": [
    {
     "data": {
      "text/plain": [
       "0    bbelindajones68 hillsong scottmorrisonmp nswpo...\n",
       "1    bctl_alt_del cscviews scottmorrisonmp china do...\n",
       "2    bctl_alt_del scottmorrisonmp wants to keep up ...\n",
       "3    bfbiagentsassoc fbiwfo scottmorrisonmppt10citi...\n",
       "4    bbelindajones68 scottmorrisonmp brianchouston ...\n",
       "Name: tweet_text, dtype: object"
      ]
     },
     "execution_count": 114,
     "metadata": {},
     "output_type": "execute_result"
    }
   ],
   "source": [
    "from textblob import TextBlob\n",
    "raw_data['tweet_text'][:5].apply(lambda x: str(TextBlob(x).correct()))"
   ]
  },
  {
   "cell_type": "markdown",
   "metadata": {},
   "source": [
    "# Lemmatization\n",
    "we usually prefer using lemmatization over stemming"
   ]
  },
  {
   "cell_type": "code",
   "execution_count": 115,
   "metadata": {},
   "outputs": [
    {
     "data": {
      "text/plain": [
       "0    bbelindajones68 hillsong scottmorrisonmp nswpo...\n",
       "1    bctl_alt_del cscviews scottmorrisonmp china do...\n",
       "2    bctl_alt_del scottmorrisonmp want to keep up t...\n",
       "3    bfbiagentsassoc fbiwfo scottmorrisonmppt10citi...\n",
       "4    bbelindajones68 scottmorrisonmp brianchouston ...\n",
       "Name: tweet_text, dtype: object"
      ]
     },
     "execution_count": 115,
     "metadata": {},
     "output_type": "execute_result"
    }
   ],
   "source": [
    "from textblob import Word\n",
    "raw_data['tweet_text'] = raw_data['tweet_text'].apply(lambda x: \" \".join([Word(word).lemmatize() for word in x.split()]))\n",
    "raw_data['tweet_text'].head()"
   ]
  },
  {
   "cell_type": "code",
   "execution_count": null,
   "metadata": {},
   "outputs": [],
   "source": []
  },
  {
   "cell_type": "code",
   "execution_count": null,
   "metadata": {},
   "outputs": [],
   "source": []
  },
  {
   "cell_type": "code",
   "execution_count": null,
   "metadata": {},
   "outputs": [],
   "source": [
    "blob = TextBlob(\"Analytics Vidhya is a great platform to learn data science.\")\n",
    "for np in blob.noun_phrases:\n",
    " print (np)"
   ]
  },
  {
   "cell_type": "code",
   "execution_count": null,
   "metadata": {},
   "outputs": [],
   "source": []
  },
  {
   "cell_type": "code",
   "execution_count": null,
   "metadata": {},
   "outputs": [],
   "source": []
  },
  {
   "cell_type": "code",
   "execution_count": null,
   "metadata": {},
   "outputs": [],
   "source": []
  },
  {
   "cell_type": "code",
   "execution_count": null,
   "metadata": {},
   "outputs": [],
   "source": []
  }
 ],
 "metadata": {
  "kernelspec": {
   "display_name": "Python 3",
   "language": "python",
   "name": "python3"
  },
  "language_info": {
   "codemirror_mode": {
    "name": "ipython",
    "version": 3
   },
   "file_extension": ".py",
   "mimetype": "text/x-python",
   "name": "python",
   "nbconvert_exporter": "python",
   "pygments_lexer": "ipython3",
   "version": "3.6.5"
  }
 },
 "nbformat": 4,
 "nbformat_minor": 2
}

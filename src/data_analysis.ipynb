{
 "cells": [
  {
   "cell_type": "code",
   "execution_count": 1,
   "metadata": {},
   "outputs": [],
   "source": [
    "import pandas as pd     \n",
    "import numpy as np  "
   ]
  },
  {
   "cell_type": "code",
   "execution_count": 9,
   "metadata": {},
   "outputs": [],
   "source": [
    "import matplotlib.pyplot as plt\n",
    "import seaborn as sns\n",
    "%matplotlib inline"
   ]
  },
  {
   "cell_type": "code",
   "execution_count": 11,
   "metadata": {},
   "outputs": [],
   "source": [
    "from textblob import TextBlob\n",
    "from textblob.sentiments import NaiveBayesAnalyzer"
   ]
  },
  {
   "cell_type": "code",
   "execution_count": 7,
   "metadata": {},
   "outputs": [],
   "source": [
    "data = pd.read_csv('data/processed/processed_data.csv')"
   ]
  },
  {
   "cell_type": "code",
   "execution_count": 8,
   "metadata": {},
   "outputs": [
    {
     "data": {
      "text/html": [
       "<div>\n",
       "<style scoped>\n",
       "    .dataframe tbody tr th:only-of-type {\n",
       "        vertical-align: middle;\n",
       "    }\n",
       "\n",
       "    .dataframe tbody tr th {\n",
       "        vertical-align: top;\n",
       "    }\n",
       "\n",
       "    .dataframe thead th {\n",
       "        text-align: right;\n",
       "    }\n",
       "</style>\n",
       "<table border=\"1\" class=\"dataframe\">\n",
       "  <thead>\n",
       "    <tr style=\"text-align: right;\">\n",
       "      <th></th>\n",
       "      <th>user_id</th>\n",
       "      <th>tweet_created_time</th>\n",
       "      <th>tweet_text</th>\n",
       "      <th>tweet_length</th>\n",
       "      <th>user_created_at</th>\n",
       "      <th>user_followers_count</th>\n",
       "      <th>user_friends_count</th>\n",
       "      <th>twitter_source</th>\n",
       "      <th>tweet_likes</th>\n",
       "      <th>tweet_retweets</th>\n",
       "    </tr>\n",
       "  </thead>\n",
       "  <tbody>\n",
       "    <tr>\n",
       "      <th>0</th>\n",
       "      <td>1246172809295880192</td>\n",
       "      <td>2020-04-03 20:28:45</td>\n",
       "      <td>Sound advice from Mick Jagger.nnSTAY HOME, PAR...</td>\n",
       "      <td>131</td>\n",
       "      <td>2014-11-01 09:19:50</td>\n",
       "      <td>20</td>\n",
       "      <td>473</td>\n",
       "      <td>Twitter for Android</td>\n",
       "      <td>0</td>\n",
       "      <td>0</td>\n",
       "    </tr>\n",
       "    <tr>\n",
       "      <th>1</th>\n",
       "      <td>1246172801192488960</td>\n",
       "      <td>2020-04-03 20:28:43</td>\n",
       "      <td>This generation of kids will never take for gr...</td>\n",
       "      <td>105</td>\n",
       "      <td>2012-10-09 16:20:40</td>\n",
       "      <td>22661</td>\n",
       "      <td>10322</td>\n",
       "      <td>Twitter for iPhone</td>\n",
       "      <td>0</td>\n",
       "      <td>0</td>\n",
       "    </tr>\n",
       "    <tr>\n",
       "      <th>2</th>\n",
       "      <td>1246172791432450048</td>\n",
       "      <td>2020-04-03 20:28:40</td>\n",
       "      <td>hey guys there I am again .... but annoyed xf0...</td>\n",
       "      <td>137</td>\n",
       "      <td>2014-05-13 16:21:31</td>\n",
       "      <td>1658</td>\n",
       "      <td>9</td>\n",
       "      <td>Instagram</td>\n",
       "      <td>0</td>\n",
       "      <td>0</td>\n",
       "    </tr>\n",
       "    <tr>\n",
       "      <th>3</th>\n",
       "      <td>1246172785715621888</td>\n",
       "      <td>2020-04-03 20:28:39</td>\n",
       "      <td>Comes to something when you empty the bins in ...</td>\n",
       "      <td>131</td>\n",
       "      <td>2011-10-19 22:19:52</td>\n",
       "      <td>4661</td>\n",
       "      <td>4668</td>\n",
       "      <td>Twitter for Android</td>\n",
       "      <td>0</td>\n",
       "      <td>0</td>\n",
       "    </tr>\n",
       "    <tr>\n",
       "      <th>4</th>\n",
       "      <td>1246172732275847168</td>\n",
       "      <td>2020-04-03 20:28:26</td>\n",
       "      <td>Lockdown is not shutdown. We are here to serve...</td>\n",
       "      <td>140</td>\n",
       "      <td>2019-06-02 05:19:30</td>\n",
       "      <td>1</td>\n",
       "      <td>2</td>\n",
       "      <td>Twitter for iPhone</td>\n",
       "      <td>0</td>\n",
       "      <td>0</td>\n",
       "    </tr>\n",
       "  </tbody>\n",
       "</table>\n",
       "</div>"
      ],
      "text/plain": [
       "               user_id   tweet_created_time  \\\n",
       "0  1246172809295880192  2020-04-03 20:28:45   \n",
       "1  1246172801192488960  2020-04-03 20:28:43   \n",
       "2  1246172791432450048  2020-04-03 20:28:40   \n",
       "3  1246172785715621888  2020-04-03 20:28:39   \n",
       "4  1246172732275847168  2020-04-03 20:28:26   \n",
       "\n",
       "                                          tweet_text  tweet_length  \\\n",
       "0  Sound advice from Mick Jagger.nnSTAY HOME, PAR...           131   \n",
       "1  This generation of kids will never take for gr...           105   \n",
       "2  hey guys there I am again .... but annoyed xf0...           137   \n",
       "3  Comes to something when you empty the bins in ...           131   \n",
       "4  Lockdown is not shutdown. We are here to serve...           140   \n",
       "\n",
       "       user_created_at  user_followers_count  user_friends_count  \\\n",
       "0  2014-11-01 09:19:50                    20                 473   \n",
       "1  2012-10-09 16:20:40                 22661               10322   \n",
       "2  2014-05-13 16:21:31                  1658                   9   \n",
       "3  2011-10-19 22:19:52                  4661                4668   \n",
       "4  2019-06-02 05:19:30                     1                   2   \n",
       "\n",
       "        twitter_source  tweet_likes  tweet_retweets  \n",
       "0  Twitter for Android            0               0  \n",
       "1   Twitter for iPhone            0               0  \n",
       "2            Instagram            0               0  \n",
       "3  Twitter for Android            0               0  \n",
       "4   Twitter for iPhone            0               0  "
      ]
     },
     "execution_count": 8,
     "metadata": {},
     "output_type": "execute_result"
    }
   ],
   "source": [
    "data.head()"
   ]
  },
  {
   "cell_type": "code",
   "execution_count": 21,
   "metadata": {},
   "outputs": [],
   "source": [
    "def sentiment(text):\n",
    "    blob = TextBlob(text, analyzer=NaiveBayesAnalyzer())\n",
    "    blob.sentiment"
   ]
  },
  {
   "cell_type": "code",
   "execution_count": null,
   "metadata": {},
   "outputs": [],
   "source": [
    "data['sentiment'] = np.array([ sentiment(tweet) for tweet in data['tweet_text']])"
   ]
  },
  {
   "cell_type": "code",
   "execution_count": null,
   "metadata": {},
   "outputs": [],
   "source": [
    "data['sentiment'].head()"
   ]
  },
  {
   "cell_type": "code",
   "execution_count": null,
   "metadata": {},
   "outputs": [],
   "source": []
  },
  {
   "cell_type": "code",
   "execution_count": null,
   "metadata": {},
   "outputs": [],
   "source": []
  },
  {
   "cell_type": "code",
   "execution_count": 20,
   "metadata": {},
   "outputs": [
    {
     "data": {
      "text/plain": [
       "Sentiment(polarity=0.0, subjectivity=0.0)"
      ]
     },
     "execution_count": 20,
     "metadata": {},
     "output_type": "execute_result"
    }
   ],
   "source": [
    "blob = TextBlob(\"I know this library\")\n",
    "blob.sentiment"
   ]
  },
  {
   "cell_type": "code",
   "execution_count": null,
   "metadata": {},
   "outputs": [],
   "source": []
  }
 ],
 "metadata": {
  "kernelspec": {
   "display_name": "Python 3",
   "language": "python",
   "name": "python3"
  },
  "language_info": {
   "codemirror_mode": {
    "name": "ipython",
    "version": 3
   },
   "file_extension": ".py",
   "mimetype": "text/x-python",
   "name": "python",
   "nbconvert_exporter": "python",
   "pygments_lexer": "ipython3",
   "version": "3.6.5"
  }
 },
 "nbformat": 4,
 "nbformat_minor": 2
}
